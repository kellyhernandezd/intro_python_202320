{
  "nbformat": 4,
  "nbformat_minor": 0,
  "metadata": {
    "colab": {
      "provenance": [],
      "authorship_tag": "ABX9TyMd9E1wHMVk3KwNyeidFXRb",
      "include_colab_link": true
    },
    "kernelspec": {
      "name": "python3",
      "display_name": "Python 3"
    },
    "language_info": {
      "name": "python"
    }
  },
  "cells": [
    {
      "cell_type": "markdown",
      "metadata": {
        "id": "view-in-github",
        "colab_type": "text"
      },
      "source": [
        "<a href=\"https://colab.research.google.com/github/kellyhernandezd/intro_python_202320/blob/main/Introduccion.ipynb\" target=\"_parent\"><img src=\"https://colab.research.google.com/assets/colab-badge.svg\" alt=\"Open In Colab\"/></a>"
      ]
    },
    {
      "cell_type": "markdown",
      "source": [
        "#introduccion a python\n",
        "##uso de programacion y algoritmia UPB 202320\n",
        "- Nombre: kelly hernandez\n",
        "- ID: 000493245\n",
        "- Email: kelly.hernandezd@upb.edu.co\n",
        "\n",
        " Esta es la expresion de la linea recta:\n",
        " $$y = mx +b $$\n",
        " donde $x$ es la posición"
      ],
      "metadata": {
        "id": "gq7GgAVoFiPP"
      }
    },
    {
      "cell_type": "code",
      "source": [
        "# Mis primeras líneas de código python\n",
        "name = \"kelly\"\n",
        "print(\"hello,\", name)\n",
        "\n",
        "\n"
      ],
      "metadata": {
        "colab": {
          "base_uri": "https://localhost:8080/"
        },
        "id": "WDKR42x4QNzF",
        "outputId": "1e986248-3b78-4ea1-844b-00623053b5df"
      },
      "execution_count": 1,
      "outputs": [
        {
          "output_type": "stream",
          "name": "stdout",
          "text": [
            "hello, kelly\n"
          ]
        }
      ]
    },
    {
      "cell_type": "code",
      "source": [
        "firstname  = \"kelly\"\n",
        "lastname = \"Johana\"\n",
        "age = \"18 años\"\n",
        "city = \"cienaga de oro\"\n",
        "food = \"pizza\"\n",
        "\n",
        "print(\"Mi nombre es,\", firstname,lastname, \"y tengo,\", age, \"vivo en,\", city , \"y me gusta,\", food)\n",
        "\n",
        "\n",
        "\n"
      ],
      "metadata": {
        "colab": {
          "base_uri": "https://localhost:8080/"
        },
        "id": "LULkrSlTUALZ",
        "outputId": "df684cc1-8627-48ca-99a3-6f0a068678e6"
      },
      "execution_count": 3,
      "outputs": [
        {
          "output_type": "stream",
          "name": "stdout",
          "text": [
            "Mi nombre es, kelly Johana y tengo, 18 años vivo en, cienaga de oro y me gusta, pizza\n"
          ]
        }
      ]
    },
    {
      "cell_type": "code",
      "source": [],
      "metadata": {
        "id": "P47NgRelVuAv"
      },
      "execution_count": null,
      "outputs": []
    }
  ]
}