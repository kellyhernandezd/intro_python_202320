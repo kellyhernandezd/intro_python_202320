{
  "nbformat": 4,
  "nbformat_minor": 0,
  "metadata": {
    "colab": {
      "provenance": [],
      "authorship_tag": "ABX9TyO3Qh7bX3F/k6Lg4X+bBLGg",
      "include_colab_link": true
    },
    "kernelspec": {
      "name": "python3",
      "display_name": "Python 3"
    },
    "language_info": {
      "name": "python"
    }
  },
  "cells": [
    {
      "cell_type": "markdown",
      "metadata": {
        "id": "view-in-github",
        "colab_type": "text"
      },
      "source": [
        "<a href=\"https://colab.research.google.com/github/kellyhernandezd/intro_python_202320/blob/main/Introduccion.ipynb\" target=\"_parent\"><img src=\"https://colab.research.google.com/assets/colab-badge.svg\" alt=\"Open In Colab\"/></a>"
      ]
    },
    {
      "cell_type": "markdown",
      "source": [
        "#introduccion a python\n",
        "##uso de programacion y algoritmia UPB 202320\n",
        "- Nombre: kelly hernandez\n",
        "- ID: 000493245\n",
        "- Email: kelly.hernandezd@upb.edu.co\n",
        "\n",
        " Esta es la expresion de la linea recta:\n",
        " $$y = mx +b $$\n",
        " donde $x$ es la posición"
      ],
      "metadata": {
        "id": "gq7GgAVoFiPP"
      }
    },
    {
      "cell_type": "code",
      "execution_count": null,
      "metadata": {
        "id": "OU0kBXhdEQeb"
      },
      "outputs": [],
      "source": []
    },
    {
      "cell_type": "code",
      "source": [],
      "metadata": {
        "id": "nFE-KLBQIGjl"
      },
      "execution_count": null,
      "outputs": []
    }
  ]
}