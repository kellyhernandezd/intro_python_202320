{
  "nbformat": 4,
  "nbformat_minor": 0,
  "metadata": {
    "colab": {
      "provenance": [],
      "authorship_tag": "ABX9TyPGJqTFD3n28wFlngDOF7Z5",
      "include_colab_link": true
    },
    "kernelspec": {
      "name": "python3",
      "display_name": "Python 3"
    },
    "language_info": {
      "name": "python"
    }
  },
  "cells": [
    {
      "cell_type": "markdown",
      "metadata": {
        "id": "view-in-github",
        "colab_type": "text"
      },
      "source": [
        "<a href=\"https://colab.research.google.com/github/kellyhernandezd/intro_python_202320/blob/main/Introduccion.ipynb\" target=\"_parent\"><img src=\"https://colab.research.google.com/assets/colab-badge.svg\" alt=\"Open In Colab\"/></a>"
      ]
    },
    {
      "cell_type": "markdown",
      "source": [
        "#introduccion a python\n",
        "##uso de programacion y algoritmia UPB 202320\n",
        "- Nombre: kelly hernandez\n",
        "- ID: 000493245\n",
        "- Email: kelly.hernandezd@upb.edu.co\n",
        "\n",
        " Esta es la expresion de la linea recta:\n",
        " $$y = mx +b $$\n",
        " donde $x$ es la posición"
      ],
      "metadata": {
        "id": "gq7GgAVoFiPP"
      }
    },
    {
      "cell_type": "code",
      "source": [
        "# Mis primeras líneas de código python\n",
        "name = \"kelly\"\n",
        "print(\"hello,\", name)\n",
        "\n",
        "\n"
      ],
      "metadata": {
        "colab": {
          "base_uri": "https://localhost:8080/"
        },
        "id": "WDKR42x4QNzF",
        "outputId": "1e986248-3b78-4ea1-844b-00623053b5df"
      },
      "execution_count": null,
      "outputs": [
        {
          "output_type": "stream",
          "name": "stdout",
          "text": [
            "hello, kelly\n"
          ]
        }
      ]
    },
    {
      "cell_type": "code",
      "source": [
        "firstname  = \"kelly\"\n",
        "lastname = \"Johana\"\n",
        "age = \"18 años\"\n",
        "city = \"cienaga de oro\"\n",
        "food = \"pizza\"\n",
        "\n",
        "print(\"Mi nombre es,\", firstname,lastname, \"y tengo,\", age, \"vivo en,\", city , \"y me gusta,\", food)\n",
        "\n",
        "\n",
        "\n"
      ],
      "metadata": {
        "colab": {
          "base_uri": "https://localhost:8080/"
        },
        "id": "LULkrSlTUALZ",
        "outputId": "df684cc1-8627-48ca-99a3-6f0a068678e6"
      },
      "execution_count": null,
      "outputs": [
        {
          "output_type": "stream",
          "name": "stdout",
          "text": [
            "Mi nombre es, kelly Johana y tengo, 18 años vivo en, cienaga de oro y me gusta, pizza\n"
          ]
        }
      ]
    },
    {
      "cell_type": "code",
      "source": [
        "a = 3\n",
        "b = 4.5\n",
        "c = a + b\n",
        "print(type(a))\n",
        "print(type(b))\n",
        "print(c)\n",
        "c = c * a\n",
        "print(c)\n",
        "c = int(c / b)\n",
        "print(c)\n",
        "d = 0.3\n",
        "c += 0.3\n",
        "print (c)\n"
      ],
      "metadata": {
        "id": "P47NgRelVuAv",
        "outputId": "0dd834f6-6533-40a2-fa3e-f121668685f7",
        "colab": {
          "base_uri": "https://localhost:8080/"
        }
      },
      "execution_count": 9,
      "outputs": [
        {
          "output_type": "stream",
          "name": "stdout",
          "text": [
            "<class 'int'>\n",
            "<class 'float'>\n",
            "7.5\n",
            "22.5\n",
            "5\n",
            "5.3\n"
          ]
        }
      ]
    },
    {
      "cell_type": "code",
      "source": [
        "m = 5\n",
        "b = 2\n",
        "x = -3\n",
        "y = m * x + b\n",
        "print(y)\n",
        "x = -2\n",
        "y = m * x + b\n",
        "print(y)\n",
        "x = -1\n",
        "y = m * x + b\n",
        "print(y)\n",
        "x = 0\n",
        "y = m * x + b\n",
        "print(y)\n",
        "x = 2\n",
        "y = m * x + b\n",
        "print(y)\n",
        "x = 3\n",
        "y = m * x + b\n",
        "print(y)\n",
        "\n",
        "\n",
        "\n",
        "\n"
      ],
      "metadata": {
        "id": "GTlod9mbbACd",
        "outputId": "6532ac4e-854c-4984-a926-a1446efdafd4",
        "colab": {
          "base_uri": "https://localhost:8080/"
        }
      },
      "execution_count": 14,
      "outputs": [
        {
          "output_type": "stream",
          "name": "stdout",
          "text": [
            "-13\n",
            "-8\n",
            "-3\n",
            "2\n",
            "12\n",
            "17\n"
          ]
        }
      ]
    },
    {
      "cell_type": "code",
      "source": [
        "a = 3\n",
        "b = 4.5\n",
        "c = -8\n",
        "disc = (b ** 2 - 4 * a * c) ** (1/2)\n",
        "x_p = (-b + disc) / (2 * a)\n",
        "x_n = (-b - disc) / (2 * a)\n",
        "print(\"x_p:\", x_p)\n",
        "print(\"x_n:\", x_n)\n",
        "print(\"-\"*10)\n"
      ],
      "metadata": {
        "id": "kF0n2ho5eyJv",
        "outputId": "b0693daf-7bb3-4f89-db48-02460e21775b",
        "colab": {
          "base_uri": "https://localhost:8080/"
        }
      },
      "execution_count": 16,
      "outputs": [
        {
          "output_type": "stream",
          "name": "stdout",
          "text": [
            "x_p: 1.046988221070652\n",
            "x_n: -2.546988221070652\n",
            "----------\n"
          ]
        }
      ]
    },
    {
      "cell_type": "code",
      "source": [
        "firstname = \"Kelly\"\n",
        "lastname = \"Hernandez\"\n",
        "fullname = firstname + \"  \" + lastname\n",
        "print(fullname)"
      ],
      "metadata": {
        "id": "SpHocRsAj2kf",
        "outputId": "1158e202-3f73-4b48-93b8-852a4a3350f2",
        "colab": {
          "base_uri": "https://localhost:8080/"
        }
      },
      "execution_count": 17,
      "outputs": [
        {
          "output_type": "stream",
          "name": "stdout",
          "text": [
            "Kelly  Hernandez\n"
          ]
        }
      ]
    },
    {
      "cell_type": "code",
      "source": [
        "song = \"\"\"un elefante se balanceaba sobre\n",
        " la tela de una araña como veía que resistia fue\n",
        " a buscar otro\"\"\"\n"
      ],
      "metadata": {
        "id": "pCMa98s2k4GI"
      },
      "execution_count": 20,
      "outputs": []
    },
    {
      "cell_type": "code",
      "source": [
        "a = 3\n",
        "b = 5\n",
        "print(a == b)\n",
        "print(a  != b)\n",
        "print(a > b)\n",
        "print(a < b)\n",
        "print(a == b) and  (b + 3 > 5)\n",
        "print(a == ) or (b + 3 > 5)\n",
        "print(not (a == b))\n",
        "\n"
      ],
      "metadata": {
        "id": "UwurLFyZmnkf",
        "outputId": "c4c3e76e-3bd0-49b3-c4fa-dcd5078cf016",
        "colab": {
          "base_uri": "https://localhost:8080/",
          "height": 140
        }
      },
      "execution_count": 23,
      "outputs": [
        {
          "output_type": "error",
          "ename": "SyntaxError",
          "evalue": "ignored",
          "traceback": [
            "\u001b[0;36m  File \u001b[0;32m\"<ipython-input-23-b77bbc31c1b4>\"\u001b[0;36m, line \u001b[0;32m8\u001b[0m\n\u001b[0;31m    print(a == ) or (b + 3 > 5)\u001b[0m\n\u001b[0m               ^\u001b[0m\n\u001b[0;31mSyntaxError\u001b[0m\u001b[0;31m:\u001b[0m invalid syntax\n"
          ]
        }
      ]
    },
    {
      "cell_type": "code",
      "source": [],
      "metadata": {
        "id": "ywy8ViasnNDz"
      },
      "execution_count": null,
      "outputs": []
    }
  ]
}